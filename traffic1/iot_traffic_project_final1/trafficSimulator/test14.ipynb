{
 "cells": [
  {
   "cell_type": "code",
   "execution_count": 1,
   "metadata": {},
   "outputs": [],
   "source": [
    "import tensorflow as tf\n",
    "import pandas as pd\n",
    "import numpy as np\n",
    "import matplotlib.pyplot as plt"
   ]
  },
  {
   "cell_type": "code",
   "execution_count": 2,
   "metadata": {},
   "outputs": [
    {
     "data": {
      "text/html": [
       "<div>\n",
       "<style scoped>\n",
       "    .dataframe tbody tr th:only-of-type {\n",
       "        vertical-align: middle;\n",
       "    }\n",
       "\n",
       "    .dataframe tbody tr th {\n",
       "        vertical-align: top;\n",
       "    }\n",
       "\n",
       "    .dataframe thead th {\n",
       "        text-align: right;\n",
       "    }\n",
       "</style>\n",
       "<table border=\"1\" class=\"dataframe\">\n",
       "  <thead>\n",
       "    <tr style=\"text-align: right;\">\n",
       "      <th></th>\n",
       "      <th>avgMeasuredTime</th>\n",
       "      <th>avgSpeed</th>\n",
       "      <th>vehicleCount</th>\n",
       "      <th>Day sin</th>\n",
       "      <th>Day cos</th>\n",
       "      <th>Year sin</th>\n",
       "      <th>Year cos</th>\n",
       "    </tr>\n",
       "  </thead>\n",
       "  <tbody>\n",
       "    <tr>\n",
       "      <th>0</th>\n",
       "      <td>94.333333</td>\n",
       "      <td>44.166667</td>\n",
       "      <td>37</td>\n",
       "      <td>1.305262e-01</td>\n",
       "      <td>-0.991445</td>\n",
       "      <td>0.684297</td>\n",
       "      <td>0.729203</td>\n",
       "    </tr>\n",
       "    <tr>\n",
       "      <th>1</th>\n",
       "      <td>104.750000</td>\n",
       "      <td>39.666667</td>\n",
       "      <td>99</td>\n",
       "      <td>5.591821e-12</td>\n",
       "      <td>-1.000000</td>\n",
       "      <td>0.684558</td>\n",
       "      <td>0.728958</td>\n",
       "    </tr>\n",
       "    <tr>\n",
       "      <th>2</th>\n",
       "      <td>111.333333</td>\n",
       "      <td>37.416667</td>\n",
       "      <td>136</td>\n",
       "      <td>-2.588190e-01</td>\n",
       "      <td>-0.965926</td>\n",
       "      <td>0.685081</td>\n",
       "      <td>0.728467</td>\n",
       "    </tr>\n",
       "    <tr>\n",
       "      <th>3</th>\n",
       "      <td>128.500000</td>\n",
       "      <td>32.083333</td>\n",
       "      <td>150</td>\n",
       "      <td>-5.000000e-01</td>\n",
       "      <td>-0.866025</td>\n",
       "      <td>0.685603</td>\n",
       "      <td>0.727976</td>\n",
       "    </tr>\n",
       "    <tr>\n",
       "      <th>4</th>\n",
       "      <td>107.250000</td>\n",
       "      <td>39.250000</td>\n",
       "      <td>125</td>\n",
       "      <td>-7.071068e-01</td>\n",
       "      <td>-0.707107</td>\n",
       "      <td>0.686124</td>\n",
       "      <td>0.727484</td>\n",
       "    </tr>\n",
       "  </tbody>\n",
       "</table>\n",
       "</div>"
      ],
      "text/plain": [
       "   avgMeasuredTime   avgSpeed  vehicleCount       Day sin   Day cos  Year sin  \\\n",
       "0        94.333333  44.166667            37  1.305262e-01 -0.991445  0.684297   \n",
       "1       104.750000  39.666667            99  5.591821e-12 -1.000000  0.684558   \n",
       "2       111.333333  37.416667           136 -2.588190e-01 -0.965926  0.685081   \n",
       "3       128.500000  32.083333           150 -5.000000e-01 -0.866025  0.685603   \n",
       "4       107.250000  39.250000           125 -7.071068e-01 -0.707107  0.686124   \n",
       "\n",
       "   Year cos  \n",
       "0  0.729203  \n",
       "1  0.728958  \n",
       "2  0.728467  \n",
       "3  0.727976  \n",
       "4  0.727484  "
      ]
     },
     "execution_count": 2,
     "metadata": {},
     "output_type": "execute_result"
    }
   ],
   "source": [
    "df=pd.read_csv(\"183063h.csv\")\n",
    "df.drop(columns='Unnamed: 0',inplace=True)\n",
    "df.head()"
   ]
  },
  {
   "cell_type": "code",
   "execution_count": 3,
   "metadata": {},
   "outputs": [
    {
     "data": {
      "text/html": [
       "<div>\n",
       "<style scoped>\n",
       "    .dataframe tbody tr th:only-of-type {\n",
       "        vertical-align: middle;\n",
       "    }\n",
       "\n",
       "    .dataframe tbody tr th {\n",
       "        vertical-align: top;\n",
       "    }\n",
       "\n",
       "    .dataframe thead th {\n",
       "        text-align: right;\n",
       "    }\n",
       "</style>\n",
       "<table border=\"1\" class=\"dataframe\">\n",
       "  <thead>\n",
       "    <tr style=\"text-align: right;\">\n",
       "      <th></th>\n",
       "      <th>avgMeasuredTime</th>\n",
       "      <th>avgSpeed</th>\n",
       "      <th>vehicleCount</th>\n",
       "      <th>Day sin</th>\n",
       "      <th>Day cos</th>\n",
       "      <th>Year sin</th>\n",
       "      <th>Year cos</th>\n",
       "    </tr>\n",
       "  </thead>\n",
       "  <tbody>\n",
       "    <tr>\n",
       "      <th>0</th>\n",
       "      <td>-0.438201</td>\n",
       "      <td>0.164485</td>\n",
       "      <td>-0.208904</td>\n",
       "      <td>0.183409</td>\n",
       "      <td>-1.395105</td>\n",
       "      <td>0.742746</td>\n",
       "      <td>1.777563</td>\n",
       "    </tr>\n",
       "    <tr>\n",
       "      <th>1</th>\n",
       "      <td>0.153914</td>\n",
       "      <td>-0.389065</td>\n",
       "      <td>1.353849</td>\n",
       "      <td>-0.001508</td>\n",
       "      <td>-1.407180</td>\n",
       "      <td>0.743052</td>\n",
       "      <td>1.777070</td>\n",
       "    </tr>\n",
       "    <tr>\n",
       "      <th>2</th>\n",
       "      <td>0.528130</td>\n",
       "      <td>-0.665840</td>\n",
       "      <td>2.286459</td>\n",
       "      <td>-0.368176</td>\n",
       "      <td>-1.359085</td>\n",
       "      <td>0.743665</td>\n",
       "      <td>1.776081</td>\n",
       "    </tr>\n",
       "    <tr>\n",
       "      <th>3</th>\n",
       "      <td>1.503935</td>\n",
       "      <td>-1.321900</td>\n",
       "      <td>2.639339</td>\n",
       "      <td>-0.709857</td>\n",
       "      <td>-1.218078</td>\n",
       "      <td>0.744277</td>\n",
       "      <td>1.775092</td>\n",
       "    </tr>\n",
       "    <tr>\n",
       "      <th>4</th>\n",
       "      <td>0.296021</td>\n",
       "      <td>-0.440320</td>\n",
       "      <td>2.009197</td>\n",
       "      <td>-1.003265</td>\n",
       "      <td>-0.993768</td>\n",
       "      <td>0.744888</td>\n",
       "      <td>1.774102</td>\n",
       "    </tr>\n",
       "  </tbody>\n",
       "</table>\n",
       "</div>"
      ],
      "text/plain": [
       "   avgMeasuredTime  avgSpeed  vehicleCount   Day sin   Day cos  Year sin  \\\n",
       "0        -0.438201  0.164485     -0.208904  0.183409 -1.395105  0.742746   \n",
       "1         0.153914 -0.389065      1.353849 -0.001508 -1.407180  0.743052   \n",
       "2         0.528130 -0.665840      2.286459 -0.368176 -1.359085  0.743665   \n",
       "3         1.503935 -1.321900      2.639339 -0.709857 -1.218078  0.744277   \n",
       "4         0.296021 -0.440320      2.009197 -1.003265 -0.993768  0.744888   \n",
       "\n",
       "   Year cos  \n",
       "0  1.777563  \n",
       "1  1.777070  \n",
       "2  1.776081  \n",
       "3  1.775092  \n",
       "4  1.774102  "
      ]
     },
     "execution_count": 3,
     "metadata": {},
     "output_type": "execute_result"
    }
   ],
   "source": [
    "#Normalize the data\n",
    "mean = df.mean()\n",
    "std = df.std()\n",
    "df = (df - mean) / std\n",
    "df.head()"
   ]
  },
  {
   "cell_type": "code",
   "execution_count": 4,
   "metadata": {},
   "outputs": [
    {
     "data": {
      "text/plain": [
       "42.829510785775696"
      ]
     },
     "execution_count": 4,
     "metadata": {},
     "output_type": "execute_result"
    }
   ],
   "source": [
    "def dnormal(x):return x*std.avgSpeed + mean.avgSpeed\n",
    "mean.avgSpeed"
   ]
  },
  {
   "cell_type": "code",
   "execution_count": 5,
   "metadata": {},
   "outputs": [],
   "source": [
    "#Split the data\n",
    "column_indices = {name: i for i, name in enumerate(df.columns)}\n",
    "\n",
    "n = len(df)\n",
    "train_df = df[0:int(n*0.75)]        #75% train\n",
    "val_df = df[int(n*0.75):int(n*0.9)] #15% validation\n",
    "test_df = df[int(n*0.9):]           #10% test\n",
    "\n",
    "num_features = df.shape[1]"
   ]
  },
  {
   "cell_type": "code",
   "execution_count": 6,
   "metadata": {},
   "outputs": [],
   "source": [
    "model=tf.keras.models.load_model(\"lstmmodel5\")"
   ]
  },
  {
   "cell_type": "code",
   "execution_count": 7,
   "metadata": {},
   "outputs": [],
   "source": [
    "class WindowGenerator():\n",
    "  def __init__(self, input_width, label_width, shift,\n",
    "               train_df=train_df, val_df=val_df, test_df=test_df,\n",
    "               label_columns=None):\n",
    "    # Store the raw data.\n",
    "    self.train_df = train_df\n",
    "    self.val_df = val_df\n",
    "    self.test_df = test_df\n",
    "\n",
    "    # Work out the label column indices.\n",
    "    self.label_columns = label_columns\n",
    "    if label_columns is not None:\n",
    "      self.label_columns_indices = {name: i for i, name in\n",
    "                                    enumerate(label_columns)}\n",
    "    self.column_indices = {name: i for i, name in\n",
    "                           enumerate(train_df.columns)}\n",
    "\n",
    "    # Work out the window parameters.\n",
    "    self.input_width = input_width\n",
    "    self.label_width = label_width\n",
    "    self.shift = shift\n",
    "\n",
    "    self.total_window_size = input_width + shift\n",
    "\n",
    "    self.input_slice = slice(0, input_width)\n",
    "    self.input_indices = np.arange(self.total_window_size)[self.input_slice]\n",
    "\n",
    "    self.label_start = self.total_window_size - self.label_width\n",
    "    self.labels_slice = slice(self.label_start, None)\n",
    "    self.label_indices = np.arange(self.total_window_size)[self.labels_slice]\n",
    "\n",
    "  def __repr__(self):\n",
    "    return '\\n'.join([\n",
    "        f'Total window size: {self.total_window_size}',\n",
    "        f'Input indices: {self.input_indices}',\n",
    "        f'Label indices: {self.label_indices}',\n",
    "        f'Label column name(s): {self.label_columns}'])"
   ]
  },
  {
   "cell_type": "code",
   "execution_count": 8,
   "metadata": {},
   "outputs": [],
   "source": [
    "#Split\n",
    "def split_window(self, features):\n",
    "  inputs = features[:, self.input_slice, :]\n",
    "  labels = features[:, self.labels_slice, :]\n",
    "  if self.label_columns is not None:\n",
    "    labels = tf.stack(\n",
    "        [labels[:, :, self.column_indices[name]] for name in self.label_columns],\n",
    "        axis=-1)\n",
    "\n",
    "  # Slicing doesn't preserve static shape information, so set the shapes\n",
    "  # manually. This way the `tf.data.Datasets` are easier to inspect.\n",
    "  inputs.set_shape([None, self.input_width, None])\n",
    "  labels.set_shape([None, self.label_width, None])\n",
    "\n",
    "  return inputs, labels\n",
    "\n",
    "WindowGenerator.split_window = split_window"
   ]
  },
  {
   "cell_type": "code",
   "execution_count": 9,
   "metadata": {},
   "outputs": [],
   "source": [
    "def make_dataset(self, data):\n",
    "  data = np.array(data, dtype=np.float32)\n",
    "  ds = tf.keras.utils.timeseries_dataset_from_array(\n",
    "      data=data,\n",
    "      targets=None,\n",
    "      sequence_length=self.total_window_size,\n",
    "      sequence_stride=1,\n",
    "      shuffle=True,\n",
    "      batch_size=32,)\n",
    "\n",
    "  ds = ds.map(self.split_window)\n",
    "\n",
    "  return ds\n",
    "\n",
    "WindowGenerator.make_dataset = make_dataset"
   ]
  },
  {
   "cell_type": "code",
   "execution_count": 10,
   "metadata": {},
   "outputs": [],
   "source": [
    "@property\n",
    "def train(self):\n",
    "  return self.make_dataset(self.train_df)\n",
    "\n",
    "@property\n",
    "def val(self):\n",
    "  return self.make_dataset(self.val_df)\n",
    "\n",
    "@property\n",
    "def test(self):\n",
    "  return self.make_dataset(self.test_df)\n",
    "\n",
    "@property\n",
    "def example(self):\n",
    "  \"\"\"Get and cache an example batch of `inputs, labels` for plotting.\"\"\"\n",
    "  result = getattr(self, '_example', None)\n",
    "  if result is None:\n",
    "    # No example batch was found, so get one from the `.train` dataset\n",
    "    result = next(iter(self.train))\n",
    "    # And cache it for next time\n",
    "    self._example = result\n",
    "\n",
    "  #print(result)\n",
    "  return result\n",
    "\n",
    "WindowGenerator.train = train\n",
    "WindowGenerator.val = val\n",
    "WindowGenerator.test = test\n",
    "WindowGenerator.example = example"
   ]
  },
  {
   "cell_type": "code",
   "execution_count": 11,
   "metadata": {},
   "outputs": [],
   "source": [
    "def plot(self, model=None, plot_col='avgSpeed', max_subplots=3):\n",
    "  inputs, labels = self.example\n",
    "  plt.figure(figsize=(12, 8))\n",
    "  plot_col_index = self.column_indices[plot_col]\n",
    "  max_n = min(max_subplots, len(inputs))\n",
    "\n",
    "  ppre=[]\n",
    "  llabels=[]\n",
    "\n",
    "  for n in range(max_n):\n",
    "    print(\"n=\",n)\n",
    "    plt.subplot(max_n, 1, n+1)\n",
    "    plt.ylabel(f'{plot_col} [normed]')\n",
    "    plt.plot(self.input_indices, inputs[n, :, plot_col_index],\n",
    "             label='Inputs', marker='.', zorder=-10)\n",
    "\n",
    "    if self.label_columns:\n",
    "      label_col_index = self.label_columns_indices.get(plot_col, None)\n",
    "    else:\n",
    "      label_col_index = plot_col_index\n",
    "\n",
    "    if label_col_index is None:\n",
    "      continue\n",
    "    \n",
    "    llabels.append(labels[n, :, label_col_index])\n",
    "    plt.scatter(self.label_indices, labels[n, :, label_col_index],\n",
    "                edgecolors='k', label='Labels', c='#2ca02c', s=64)\n",
    "    if model is not None:\n",
    "      predictions = model(inputs)\n",
    "      ppre.append(predictions[n, :, label_col_index])\n",
    "      plt.scatter(self.label_indices, predictions[n, :, label_col_index],\n",
    "                  marker='X', edgecolors='k', label='Predictions',\n",
    "                  c='#ff7f0e', s=64)\n",
    "\n",
    "    if n == 0:\n",
    "      plt.legend()\n",
    "\n",
    "  plt.xlabel('Time [H]')\n",
    "\n",
    "  return ppre,llabels\n",
    "\n",
    "WindowGenerator.plot = plot"
   ]
  },
  {
   "cell_type": "code",
   "execution_count": 12,
   "metadata": {},
   "outputs": [
    {
     "data": {
      "text/plain": [
       "Total window size: 32\n",
       "Input indices: [ 0  1  2  3  4  5  6  7  8  9 10 11 12 13 14 15 16 17 18 19 20 21 22 23]\n",
       "Label indices: [ 8  9 10 11 12 13 14 15 16 17 18 19 20 21 22 23 24 25 26 27 28 29 30 31]\n",
       "Label column name(s): ['avgSpeed']"
      ]
     },
     "execution_count": 12,
     "metadata": {},
     "output_type": "execute_result"
    }
   ],
   "source": [
    "wide_window = WindowGenerator(\n",
    "    input_width=24, label_width=24, shift=8,\n",
    "    label_columns=['avgSpeed'])\n",
    "\n",
    "wide_window"
   ]
  },
  {
   "cell_type": "code",
   "execution_count": 13,
   "metadata": {},
   "outputs": [
    {
     "name": "stdout",
     "output_type": "stream",
     "text": [
      "n= 0\n",
      "n= 1\n",
      "n= 2\n"
     ]
    },
    {
     "data": {
      "image/png": "[encoded data removed]",
      "text/plain": [
       "<Figure size 1200x800 with 3 Axes>"
      ]
     },
     "metadata": {},
     "output_type": "display_data"
    }
   ],
   "source": [
    "ppredictions,llabels=wide_window.plot(model)"
   ]
  },
  {
   "cell_type": "code",
   "execution_count": 14,
   "metadata": {},
   "outputs": [],
   "source": [
    "pree=[]\n",
    "for i in range(3):\n",
    "    pree.append(pd.DataFrame({'label': llabels[i], 'predictions': ppredictions[i]}, columns=['label', 'predictions']))\n",
    "\n",
    "pren2=dnormal(pree[1])"
   ]
  },
  {
   "cell_type": "code",
   "execution_count": 15,
   "metadata": {},
   "outputs": [
    {
     "data": {
      "text/html": [
       "<div>\n",
       "<style scoped>\n",
       "    .dataframe tbody tr th:only-of-type {\n",
       "        vertical-align: middle;\n",
       "    }\n",
       "\n",
       "    .dataframe tbody tr th {\n",
       "        vertical-align: top;\n",
       "    }\n",
       "\n",
       "    .dataframe thead th {\n",
       "        text-align: right;\n",
       "    }\n",
       "</style>\n",
       "<table border=\"1\" class=\"dataframe\">\n",
       "  <thead>\n",
       "    <tr style=\"text-align: right;\">\n",
       "      <th></th>\n",
       "      <th>label</th>\n",
       "      <th>predictions</th>\n",
       "    </tr>\n",
       "  </thead>\n",
       "  <tbody>\n",
       "    <tr>\n",
       "      <th>count</th>\n",
       "      <td>24.000000</td>\n",
       "      <td>24.000000</td>\n",
       "    </tr>\n",
       "    <tr>\n",
       "      <th>mean</th>\n",
       "      <td>40.595139</td>\n",
       "      <td>40.272312</td>\n",
       "    </tr>\n",
       "    <tr>\n",
       "      <th>std</th>\n",
       "      <td>6.756056</td>\n",
       "      <td>5.385179</td>\n",
       "    </tr>\n",
       "    <tr>\n",
       "      <th>min</th>\n",
       "      <td>33.166664</td>\n",
       "      <td>34.466785</td>\n",
       "    </tr>\n",
       "    <tr>\n",
       "      <th>25%</th>\n",
       "      <td>35.333333</td>\n",
       "      <td>36.575163</td>\n",
       "    </tr>\n",
       "    <tr>\n",
       "      <th>50%</th>\n",
       "      <td>40.000000</td>\n",
       "      <td>39.401819</td>\n",
       "    </tr>\n",
       "    <tr>\n",
       "      <th>75%</th>\n",
       "      <td>42.295834</td>\n",
       "      <td>41.737465</td>\n",
       "    </tr>\n",
       "    <tr>\n",
       "      <th>max</th>\n",
       "      <td>61.500000</td>\n",
       "      <td>60.203346</td>\n",
       "    </tr>\n",
       "  </tbody>\n",
       "</table>\n",
       "</div>"
      ],
      "text/plain": [
       "           label  predictions\n",
       "count  24.000000    24.000000\n",
       "mean   40.595139    40.272312\n",
       "std     6.756056     5.385179\n",
       "min    33.166664    34.466785\n",
       "25%    35.333333    36.575163\n",
       "50%    40.000000    39.401819\n",
       "75%    42.295834    41.737465\n",
       "max    61.500000    60.203346"
      ]
     },
     "execution_count": 15,
     "metadata": {},
     "output_type": "execute_result"
    }
   ],
   "source": [
    "pren2.describe()"
   ]
  },
  {
   "cell_type": "code",
   "execution_count": 16,
   "metadata": {},
   "outputs": [
    {
     "data": {
      "text/plain": [
       "61.5"
      ]
     },
     "execution_count": 16,
     "metadata": {},
     "output_type": "execute_result"
    }
   ],
   "source": [
    "pren2.label.max()"
   ]
  },
  {
   "cell_type": "code",
   "execution_count": 17,
   "metadata": {},
   "outputs": [
    {
     "name": "stdout",
     "output_type": "stream",
     "text": [
      "prediction de 24 heure\n"
     ]
    },
    {
     "data": {
      "text/html": [
       "<div>\n",
       "<style scoped>\n",
       "    .dataframe tbody tr th:only-of-type {\n",
       "        vertical-align: middle;\n",
       "    }\n",
       "\n",
       "    .dataframe tbody tr th {\n",
       "        vertical-align: top;\n",
       "    }\n",
       "\n",
       "    .dataframe thead th {\n",
       "        text-align: right;\n",
       "    }\n",
       "</style>\n",
       "<table border=\"1\" class=\"dataframe\">\n",
       "  <thead>\n",
       "    <tr style=\"text-align: right;\">\n",
       "      <th></th>\n",
       "      <th>label</th>\n",
       "      <th>predictions</th>\n",
       "    </tr>\n",
       "  </thead>\n",
       "  <tbody>\n",
       "    <tr>\n",
       "      <th>0</th>\n",
       "      <td>33.416664</td>\n",
       "      <td>36.580448</td>\n",
       "    </tr>\n",
       "    <tr>\n",
       "      <th>1</th>\n",
       "      <td>34.250000</td>\n",
       "      <td>36.296719</td>\n",
       "    </tr>\n",
       "    <tr>\n",
       "      <th>2</th>\n",
       "      <td>37.333332</td>\n",
       "      <td>37.965240</td>\n",
       "    </tr>\n",
       "    <tr>\n",
       "      <th>3</th>\n",
       "      <td>41.750000</td>\n",
       "      <td>41.636116</td>\n",
       "    </tr>\n",
       "    <tr>\n",
       "      <th>4</th>\n",
       "      <td>39.500000</td>\n",
       "      <td>40.428654</td>\n",
       "    </tr>\n",
       "  </tbody>\n",
       "</table>\n",
       "</div>"
      ],
      "text/plain": [
       "       label  predictions\n",
       "0  33.416664    36.580448\n",
       "1  34.250000    36.296719\n",
       "2  37.333332    37.965240\n",
       "3  41.750000    41.636116\n",
       "4  39.500000    40.428654"
      ]
     },
     "execution_count": 17,
     "metadata": {},
     "output_type": "execute_result"
    }
   ],
   "source": [
    "print(\"prediction de\",len(pren2),\"heure\")\n",
    "pren2.head()"
   ]
  },
  {
   "cell_type": "code",
   "execution_count": 18,
   "metadata": {},
   "outputs": [
    {
     "name": "stdout",
     "output_type": "stream",
     "text": [
      "pygame 2.2.0 (SDL 2.0.22, Python 3.9.15)\n",
      "Hello from the pygame community. https://www.pygame.org/contribute.html\n",
      "self.vehicle_rate= 96\n",
      "self.vehicle_rate= 93\n",
      "self.vehicle_rate= 84\n",
      "self.vehicle_rate= 71\n",
      "self.vehicle_rate= 78\n",
      "self.vehicle_rate= 67\n",
      "self.vehicle_rate= 64\n",
      "self.vehicle_rate= 68\n",
      "self.vehicle_rate= 69\n"
     ]
    }
   ],
   "source": [
    "from traffic_signal import *\n",
    "from road import *\n",
    "from curve import *\n",
    "from simulation import *\n",
    "from vehicle import *\n",
    "from vehicle_generator import *\n",
    "from window import *\n",
    "from simulation import Simulation\n",
    "# Create simulation + data\n",
    "sim = Simulation(pren2)\n",
    "# Add multiple roads\n",
    "sim.create_roads([\n",
    "    ((-10, 108), (290, 108)),\n",
    "    ((-10, 104), (290, 104)),\n",
    "\n",
    "    ((290, 100), (-10, 100)),\n",
    "    ((290, 96), (80, 96)),\n",
    "    ((80, 96), (-10, 96)),\n",
    "])\n",
    "sim.create_gen({\n",
    "    'vehicle_rate': 60,\n",
    "    'vehicles': [\n",
    "        [3, {\"path\": [0]}],\n",
    "        [6, {\"path\": [1]}],\n",
    "        \n",
    "        [3, {\"path\": [3, 4]}],\n",
    "        [6, {\"path\": [2]}],\n",
    "    ]\n",
    "})\n",
    "# Start simulation\n",
    "win = Window(sim)\n",
    "win.offset = (-145, -95)\n",
    "win.zoom = 8\n",
    "win.run(steps_per_update=5)"
   ]
  }
 ],
 "metadata": {
  "kernelspec": {
   "display_name": "nlp",
   "language": "python",
   "name": "python3"
  },
  "language_info": {
   "codemirror_mode": {
    "name": "ipython",
    "version": 3
   },
   "file_extension": ".py",
   "mimetype": "text/x-python",
   "name": "python",
   "nbconvert_exporter": "python",
   "pygments_lexer": "ipython3",
   "version": "3.9.15"
  },
  "orig_nbformat": 4
 },
 "nbformat": 4,
 "nbformat_minor": 2
}
